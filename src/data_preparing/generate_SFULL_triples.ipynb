{
 "cells": [
  {
   "cell_type": "markdown",
   "metadata": {},
   "source": [
    "### Load concepts and create mappings"
   ]
  },
  {
   "cell_type": "code",
   "execution_count": 1,
   "metadata": {},
   "outputs": [],
   "source": [
    "# load MRCONSO.RFF\n",
    "BASE_UMLS_DIR = \"/home/zm324/workspace/data/kgs/umls/2020AB/\"\n",
    "MRCONSO = BASE_UMLS_DIR + \"META/MRCONSO.RRF\"  # the MRCONSO.RFF file\n",
    "with open(MRCONSO, \"r\") as f:\n",
    "    lines = f.readlines()"
   ]
  },
  {
   "cell_type": "code",
   "execution_count": 2,
   "metadata": {},
   "outputs": [
    {
     "data": {
      "application/vnd.jupyter.widget-view+json": {
       "model_id": "7285a27917434f0685c85ac7cbd4bcd2",
       "version_major": 2,
       "version_minor": 0
      },
      "text/plain": [
       "HBox(children=(FloatProgress(value=0.0, max=15938386.0), HTML(value='')))"
      ]
     },
     "metadata": {},
     "output_type": "display_data"
    },
    {
     "name": "stdout",
     "output_type": "stream",
     "text": [
      "\n"
     ]
    },
    {
     "data": {
      "text/plain": [
       "15938386"
      ]
     },
     "execution_count": 2,
     "metadata": {},
     "output_type": "execute_result"
    }
   ],
   "source": [
    "atom_string_map = {}\n",
    "cuid_string_map = {}\n",
    "\n",
    "from tqdm.auto import tqdm\n",
    "\n",
    "for l in tqdm(lines):\n",
    "    cells = l.split(\"|\")\n",
    "    cuid = cells[0]\n",
    "    aid = cells[7]\n",
    "    string = cells[14]\n",
    "    atom_string_map[aid] = string\n",
    "    cuid_string_map[cuid] = string\n",
    "len(atom_string_map)"
   ]
  },
  {
   "cell_type": "markdown",
   "metadata": {},
   "source": [
    "### Read relations using additional labels"
   ]
  },
  {
   "cell_type": "code",
   "execution_count": 3,
   "metadata": {},
   "outputs": [],
   "source": [
    "# load MRCONSO.RFF\n",
    "MRREL = BASE_UMLS_DIR + \"META/MRREL.RRF\"\n",
    "with open(MRREL, \"r\") as f:\n",
    "    lines = f.readlines()"
   ]
  },
  {
   "cell_type": "code",
   "execution_count": null,
   "metadata": {},
   "outputs": [],
   "source": [
    "import pandas as pd\n",
    "\n",
    "header_str = \"CUI1 | AUI1 | STYPE1 | REL | CUI2 | AUI2 | STYPE2 | RELA | RUI | SRUI | SAB | SL | RG | DIR | SUPPRESS |CVF\"\n",
    "headers = [col.strip() for col in header_str.split(\"|\")]\n",
    "MRREL_pd = pd.read_csv(MRREL, sep=\"|\", header=None)\n",
    "col_map = {}\n",
    "for idx, head in enumerate(headers):\n",
    "    col_map[idx] = head\n",
    "MRREL_pd = MRREL_pd.rename(columns=col_map)"
   ]
  },
  {
   "cell_type": "code",
   "execution_count": null,
   "metadata": {},
   "outputs": [],
   "source": [
    "MRREL_pd_Snomed = MRREL_pd[MRREL_pd[\"SAB\"] == \"SNOMEDCT_US\"]  # Only use SNOMEDCT_US\n",
    "MRREL_pd_Snomed_RO = MRREL_pd_Snomed[\n",
    "    MRREL_pd_Snomed[\"REL\"] == \"RO\"\n",
    "]  # Only use general relations"
   ]
  },
  {
   "cell_type": "code",
   "execution_count": null,
   "metadata": {},
   "outputs": [],
   "source": [
    "MRREL_pd_Snomed_RO.loc[:, \"STR1\"] = MRREL_pd_Snomed_RO[\"CUI1\"].apply(\n",
    "    lambda cuid: cuid_string_map[cuid]\n",
    ")\n",
    "MRREL_pd_Snomed_RO.loc[:, \"STR2\"] = MRREL_pd_Snomed_RO[\"CUI2\"].apply(\n",
    "    lambda cuid: cuid_string_map[cuid]\n",
    ")\n",
    "MRREL_pd_Snomed_RO.loc[:, \"RELA\"] = MRREL_pd_Snomed_RO[\"RELA\"].apply(\n",
    "    lambda rela: rela.replace(\"_\", \" \")\n",
    ")\n",
    "kg_pd_snomed_ro = MRREL_pd_Snomed_RO[[\"STR1\", \"RELA\", \"STR2\"]]"
   ]
  },
  {
   "cell_type": "markdown",
   "metadata": {},
   "source": [
    "### Create new Ids for entities and relations"
   ]
  },
  {
   "cell_type": "code",
   "execution_count": null,
   "metadata": {},
   "outputs": [],
   "source": [
    "entity_list = kg_pd_snomed_ro[\"STR1\"].unique()\n",
    "id2entity = {i: entity_list[i] for i in range(len(entity_list))}\n",
    "entity2id = {entity_list[i]: i for i in range(len(entity_list))}\n",
    "\n",
    "rel_list = kg_pd_snomed_ro[\"RELA\"].unique()\n",
    "id2rel = {i: rel_list[i] for i in range(len(rel_list))}\n",
    "rel2id = {rel_list[i]: i for i in range(len(rel_list))}\n",
    "MRREL_pd_Snomed_RO.loc[:, \"eid1\"] = MRREL_pd_Snomed_RO[\"STR1\"].apply(\n",
    "    lambda ent_str: entity2id[ent_str]\n",
    ")\n",
    "MRREL_pd_Snomed_RO.loc[:, \"eid2\"] = MRREL_pd_Snomed_RO[\"STR2\"].apply(\n",
    "    lambda ent_str: entity2id[ent_str]\n",
    ")\n",
    "MRREL_pd_Snomed_RO.loc[:, \"rid\"] = MRREL_pd_Snomed_RO[\"RELA\"].apply(\n",
    "    lambda rel_str: rel2id[rel_str]\n",
    ")"
   ]
  },
  {
   "cell_type": "markdown",
   "metadata": {},
   "source": [
    "### Save to files"
   ]
  },
  {
   "cell_type": "code",
   "execution_count": null,
   "metadata": {},
   "outputs": [],
   "source": [
    "OUT_DIR = \"./\"  # OUTPUT DIR\n",
    "\n",
    "with open(OUT_DIR + \"entity2id.txt\", \"w\") as f:\n",
    "    f.write(f\"{len(entity2id)}\\n\")\n",
    "    for k, v in entity2id.items():\n",
    "        f.write(f\"{k}\\t{v}\\n\")\n",
    "\n",
    "with open(OUT_DIR + \"relation2id.txt\", \"w\") as f:\n",
    "    f.write(f\"{len(rel2id)}\\n\")\n",
    "    for k, v in rel2id.items():\n",
    "        f.write(f\"{k}\\t{v}\\n\")\n",
    "\n",
    "with open(OUT_DIR + \"train2id.txt\", \"w\") as f:\n",
    "    f.write(f\"{len(MRREL_pd_Snomed_RO.index)}\\n\")\n",
    "    for idx, item in MRREL_pd_Snomed_RO.iterrows():\n",
    "        f.write(f\"{item['eid1']}\\t{item['eid2']}\\t{item['rid']}\\n\")"
   ]
  }
 ],
 "metadata": {
  "kernelspec": {
   "display_name": "doc_cls",
   "language": "python",
   "name": "doc_cls"
  },
  "language_info": {
   "codemirror_mode": {
    "name": "ipython",
    "version": 3
   },
   "file_extension": ".py",
   "mimetype": "text/x-python",
   "name": "python",
   "nbconvert_exporter": "python",
   "pygments_lexer": "ipython3",
   "version": "3.8.3"
  },
  "toc": {
   "base_numbering": 1,
   "nav_menu": {},
   "number_sections": true,
   "sideBar": true,
   "skip_h1_title": false,
   "title_cell": "Table of Contents",
   "title_sidebar": "Contents",
   "toc_cell": false,
   "toc_position": {
    "height": "calc(100% - 180px)",
    "left": "10px",
    "top": "150px",
    "width": "277.2px"
   },
   "toc_section_display": true,
   "toc_window_display": true
  }
 },
 "nbformat": 4,
 "nbformat_minor": 4
}
